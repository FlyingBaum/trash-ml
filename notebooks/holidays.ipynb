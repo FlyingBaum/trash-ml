{
 "cells": [
  {
   "cell_type": "markdown",
   "metadata": {},
   "source": [
    "## holiday days"
   ]
  },
  {
   "cell_type": "code",
   "execution_count": 26,
   "metadata": {},
   "outputs": [],
   "source": [
    "import pandas as pd\n",
    "from datetime import datetime, timedelta\n"
   ]
  },
  {
   "cell_type": "markdown",
   "metadata": {},
   "source": [
    "### read data"
   ]
  },
  {
   "cell_type": "code",
   "execution_count": 27,
   "metadata": {},
   "outputs": [],
   "source": [
    "df_bsr_data = pd.read_csv('../data/trash-amounts.csv', sep=';', dtype=str)\n",
    "df_holidays = pd.read_csv('../data/holidays.csv', sep=',', quotechar='\"')"
   ]
  },
  {
   "cell_type": "markdown",
   "metadata": {},
   "source": [
    "### clean date column and convert to datetime"
   ]
  },
  {
   "cell_type": "code",
   "execution_count": 28,
   "metadata": {},
   "outputs": [
    {
     "name": "stdout",
     "output_type": "stream",
     "text": [
      "datetime64[ns]\n"
     ]
    }
   ],
   "source": [
    "df_bsr_data['Datum'] = pd.to_datetime(df_bsr_data['Datum'], format='%d.%m.%y', errors='coerce')\n",
    "\n",
    "print(df_bsr_data['Datum'].dtype)"
   ]
  },
  {
   "cell_type": "markdown",
   "metadata": {},
   "source": [
    "### parse holiday periods into a list of dates"
   ]
  },
  {
   "cell_type": "code",
   "execution_count": 29,
   "metadata": {},
   "outputs": [],
   "source": [
    "def parse_holiday_period(holiday_str, year):\n",
    "    \"\"\"\n",
    "    Wandelt einen Ferien-Zeitraum-String (z.B. \"14.04. - 25.04. / 02.05. / 30.05.\")\n",
    "    in eine Liste von (start_date, end_date)-Tupeln um.\n",
    "    \"\"\"\n",
    "    # Vereinheitliche die Trennzeichen\n",
    "    holiday_str = holiday_str.replace('/', '+')\n",
    "    parts = holiday_str.split('+')\n",
    "    intervals = []\n",
    "    \n",
    "    for part in parts:\n",
    "        part = part.strip()\n",
    "        if not part:\n",
    "            continue\n",
    "        if '-' in part:\n",
    "            start_str, end_str = part.split('-')\n",
    "            # Entferne überflüssige Punkte und Leerzeichen\n",
    "            start_str = start_str.strip().rstrip('.')\n",
    "            end_str = end_str.strip().rstrip('.')\n",
    "            # Erzeuge Start- und Enddatum\n",
    "            start_date = datetime.strptime(f\"{start_str}.{year}\", \"%d.%m.%Y\")\n",
    "            end_date = datetime.strptime(f\"{end_str}.{year}\", \"%d.%m.%Y\")\n",
    "            # Falls das Enddatum vor dem Startdatum liegt (z.B. 23.12. - 04.01.), \n",
    "            # dann ordne das Enddatum dem Folgejahr zu.\n",
    "            if start_date > end_date:\n",
    "                end_date = datetime.strptime(f\"{end_str}.{year+1}\", \"%d.%m.%Y\")\n",
    "            intervals.append((start_date, end_date))\n",
    "        else:\n",
    "            # Einzeltermin – hier ebenfalls überflüssige Punkte entfernen\n",
    "            date_str = part.strip().rstrip('.')\n",
    "            date_obj = datetime.strptime(f\"{date_str}.{year}\", \"%d.%m.%Y\")\n",
    "            intervals.append((date_obj, date_obj))\n",
    "    return intervals"
   ]
  },
  {
   "cell_type": "markdown",
   "metadata": {},
   "source": [
    "### collect all dates into a dictionary"
   ]
  },
  {
   "cell_type": "code",
   "execution_count": 30,
   "metadata": {},
   "outputs": [],
   "source": [
    "holidays = {}\n",
    "\n",
    "for idx, row in df_holidays.iterrows():\n",
    "    bundesland = row['Bundesland']\n",
    "    year = int(row['Jahr'])\n",
    "    if bundesland not in holidays:\n",
    "        holidays[bundesland] = {}\n",
    "    if year not in holidays[bundesland]:\n",
    "        holidays[bundesland][year] = set()\n",
    "        \n",
    "    # Alle Ferien-Spalten (ab der 3. Spalte) durchgehen\n",
    "    for col in df_holidays.columns[2:]:\n",
    "        # Prüfen, ob in der Spalte ein Wert steht\n",
    "        if pd.isna(row[col]):\n",
    "            continue\n",
    "        holiday_str = row[col]\n",
    "        intervals = parse_holiday_period(holiday_str, year)\n",
    "        for start_date, end_date in intervals:\n",
    "            # Füge alle Tage im Intervall (inklusive Start und Ende) hinzu\n",
    "            delta_days = (end_date - start_date).days\n",
    "            for i in range(delta_days + 1):\n",
    "                tag = start_date + timedelta(days=i)\n",
    "                holidays[bundesland][year].add(tag)"
   ]
  },
  {
   "cell_type": "markdown",
   "metadata": {},
   "source": [
    "### create a new dataframe with all dates"
   ]
  },
  {
   "cell_type": "code",
   "execution_count": 31,
   "metadata": {},
   "outputs": [
    {
     "name": "stdout",
     "output_type": "stream",
     "text": [
      "   Bundesland      Datum  is_holiday\n",
      "0      Berlin 2019-01-01       False\n",
      "1      Berlin 2019-01-02       False\n",
      "2      Berlin 2019-01-03       False\n",
      "3      Berlin 2019-01-04       False\n",
      "4      Berlin 2019-01-05       False\n",
      "5      Berlin 2019-01-06       False\n",
      "6      Berlin 2019-01-07       False\n",
      "7      Berlin 2019-01-08       False\n",
      "8      Berlin 2019-01-09       False\n",
      "9      Berlin 2019-01-10       False\n",
      "10     Berlin 2019-01-11       False\n",
      "11     Berlin 2019-01-12       False\n",
      "12     Berlin 2019-01-13       False\n",
      "13     Berlin 2019-01-14       False\n",
      "14     Berlin 2019-01-15       False\n",
      "15     Berlin 2019-01-16       False\n",
      "16     Berlin 2019-01-17       False\n",
      "17     Berlin 2019-01-18       False\n",
      "18     Berlin 2019-01-19       False\n",
      "19     Berlin 2019-01-20       False\n"
     ]
    }
   ],
   "source": [
    "result_rows = []\n",
    "for bundesland, years in holidays.items():\n",
    "    for year, holiday_set in years.items():\n",
    "        start_year = datetime(year, 1, 1)\n",
    "        end_year = datetime(year, 12, 31)\n",
    "        for tag in pd.date_range(start_year, end_year):\n",
    "            tag_dt = tag.to_pydatetime()\n",
    "            result_rows.append({\n",
    "                'Bundesland': bundesland,\n",
    "                'Datum': tag,\n",
    "                'is_holiday': tag_dt in holiday_set\n",
    "            })\n",
    "\n",
    "result_df = pd.DataFrame(result_rows)\n",
    "print(result_df.head(20))"
   ]
  },
  {
   "cell_type": "code",
   "execution_count": 32,
   "metadata": {},
   "outputs": [
    {
     "name": "stdout",
     "output_type": "stream",
     "text": [
      "  Monat KW  Jahr      Datum  Hof Schicht Tour Tonnage Abfallart is_holiday\n",
      "0     1  1  2019 2019-01-02  VMF       1    1    5,59       BIO      False\n",
      "1     1  1  2019 2019-01-02  VMF       1    4    3,23       BIO      False\n",
      "2     1  1  2019 2019-01-02  VMF       1    5    5,68       BIO      False\n",
      "3     1  1  2019 2019-01-02  VMF       1    6    5,48       BIO      False\n",
      "4     1  1  2019 2019-01-02  VMF       1    7    7,84       BIO      False\n"
     ]
    }
   ],
   "source": [
    "# Merge df_bsr_data with result_df on the 'Datum' column\n",
    "df_bsr_data = df_bsr_data.merge(result_df[['Datum', 'is_holiday']], on='Datum', how='left', suffixes=('', '_y'))\n",
    "\n",
    "# Drop the duplicate 'is_holiday_y' column if it exists\n",
    "df_bsr_data.drop(columns=['is_holiday_y'], inplace=True, errors='ignore')\n",
    "\n",
    "print(df_bsr_data.head())"
   ]
  },
  {
   "cell_type": "code",
   "execution_count": 33,
   "metadata": {},
   "outputs": [
    {
     "data": {
      "image/png": "[encoded data removed]",
      "text/plain": [
       "<Figure size 640x480 with 1 Axes>"
      ]
     },
     "metadata": {},
     "output_type": "display_data"
    }
   ],
   "source": [
    "import matplotlib.pyplot as plt\n",
    "\n",
    "# Konvertiere die Tonnage-Spalte in numerische Werte\n",
    "df_bsr_data['Tonnage'] = pd.to_numeric(df_bsr_data['Tonnage'].str.replace(',', '.'), errors='coerce')\n",
    "\n",
    "# Gruppiere die Daten nach Feiertagen und berechne die durchschnittliche Müllmenge\n",
    "average_tonnage = df_bsr_data.groupby('is_holiday')['Tonnage'].mean()\n",
    "\n",
    "# Plotten der Ergebnisse\n",
    "average_tonnage.plot(kind='bar', color=['blue', 'orange'])\n",
    "plt.xlabel('Category')\n",
    "plt.ylabel('Average Tonnage')\n",
    "plt.title('Average Tonnage on Holidays vs Non-Holidays')\n",
    "plt.xticks(ticks=[0, 1], labels=['Non-Holiday', 'Holiday'], rotation=0)\n",
    "plt.show()"
   ]
  },
  {
   "cell_type": "code",
   "execution_count": 34,
   "metadata": {},
   "outputs": [
    {
     "data": {
      "image/png": "[encoded data removed]",
      "text/plain": [
       "<Figure size 1200x600 with 1 Axes>"
      ]
     },
     "metadata": {},
     "output_type": "display_data"
    }
   ],
   "source": [
    "# Gruppiere die Daten nach Hof und Feiertagen und berechne die durchschnittliche Müllmenge\n",
    "average_tonnage_by_hof = df_bsr_data.groupby(['Hof', 'is_holiday'])['Tonnage'].mean().unstack()\n",
    "\n",
    "# Plotten der Ergebnisse\n",
    "average_tonnage_by_hof.plot(kind='bar', figsize=(12, 6), color=['blue', 'orange'])\n",
    "plt.xlabel('Hof')\n",
    "plt.ylabel('Average Tonnage')\n",
    "plt.title('Average Tonnage on Holidays vs Non-Holidays by Hof')\n",
    "plt.xticks(rotation=45)\n",
    "plt.legend(title='Category', labels=['Non-Holiday', 'Holiday'])\n",
    "plt.show()"
   ]
  }
 ],
 "metadata": {
  "kernelspec": {
   "display_name": "bsr-ai",
   "language": "python",
   "name": "python3"
  },
  "language_info": {
   "codemirror_mode": {
    "name": "ipython",
    "version": 3
   },
   "file_extension": ".py",
   "mimetype": "text/x-python",
   "name": "python",
   "nbconvert_exporter": "python",
   "pygments_lexer": "ipython3",
   "version": "3.10.4"
  }
 },
 "nbformat": 4,
 "nbformat_minor": 2
}
