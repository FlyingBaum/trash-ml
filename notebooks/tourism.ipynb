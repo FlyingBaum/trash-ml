{
 "cells": [
  {
   "cell_type": "code",
   "id": "initial_id",
   "metadata": {
    "collapsed": true,
    "ExecuteTime": {
     "end_time": "2025-02-11T12:22:11.459890Z",
     "start_time": "2025-02-11T12:22:11.456368Z"
    }
   },
   "source": [
    "import pandas as pd\n",
    "import numpy as np"
   ],
   "outputs": [],
   "execution_count": 30
  },
  {
   "metadata": {
    "ExecuteTime": {
     "end_time": "2025-02-11T12:22:11.470893Z",
     "start_time": "2025-02-11T12:22:11.466018Z"
    }
   },
   "cell_type": "code",
   "source": "df = pd.read_csv('../data/tourismus.csv', delimiter=';', skiprows=3, usecols=[0, 1, 2, 4], names=['Year', 'Month', 'Tour_Arrivals', 'Tour_Stays'])",
   "id": "bc5551494e28babe",
   "outputs": [],
   "execution_count": 31
  },
  {
   "metadata": {
    "ExecuteTime": {
     "end_time": "2025-02-11T12:22:11.480644Z",
     "start_time": "2025-02-11T12:22:11.478009Z"
    }
   },
   "cell_type": "code",
   "source": "df['Year'] = df['Year'].ffill()",
   "id": "95922f1a37b8ec0f",
   "outputs": [],
   "execution_count": 32
  },
  {
   "metadata": {
    "ExecuteTime": {
     "end_time": "2025-02-11T12:22:11.493531Z",
     "start_time": "2025-02-11T12:22:11.487639Z"
    }
   },
   "cell_type": "code",
   "source": [
    "df = df.drop(index=[0, 1, 2, 3]).reset_index(drop=True)\n",
    "df.head(10)"
   ],
   "id": "132759d7a88d9369",
   "outputs": [
    {
     "data": {
      "text/plain": [
       "   Year      Month Tour_Arrivals Tour_Stays\n",
       "0  2019     Januar        914931    2159841\n",
       "1  2019    Februar        949002    2235628\n",
       "2  2019       März       1110954    2642288\n",
       "3  2019      April       1184986    3009169\n",
       "4  2019        Mai       1277674    3010462\n",
       "5  2019       Juni       1244717    3047930\n",
       "6  2019       Juli       1225219    3216242\n",
       "7  2019     August       1274832    3399163\n",
       "8  2019  September       1255860    3035799\n",
       "9  2019    Oktober       1273608    3120607"
      ],
      "text/html": [
       "<div>\n",
       "<style scoped>\n",
       "    .dataframe tbody tr th:only-of-type {\n",
       "        vertical-align: middle;\n",
       "    }\n",
       "\n",
       "    .dataframe tbody tr th {\n",
       "        vertical-align: top;\n",
       "    }\n",
       "\n",
       "    .dataframe thead th {\n",
       "        text-align: right;\n",
       "    }\n",
       "</style>\n",
       "<table border=\"1\" class=\"dataframe\">\n",
       "  <thead>\n",
       "    <tr style=\"text-align: right;\">\n",
       "      <th></th>\n",
       "      <th>Year</th>\n",
       "      <th>Month</th>\n",
       "      <th>Tour_Arrivals</th>\n",
       "      <th>Tour_Stays</th>\n",
       "    </tr>\n",
       "  </thead>\n",
       "  <tbody>\n",
       "    <tr>\n",
       "      <th>0</th>\n",
       "      <td>2019</td>\n",
       "      <td>Januar</td>\n",
       "      <td>914931</td>\n",
       "      <td>2159841</td>\n",
       "    </tr>\n",
       "    <tr>\n",
       "      <th>1</th>\n",
       "      <td>2019</td>\n",
       "      <td>Februar</td>\n",
       "      <td>949002</td>\n",
       "      <td>2235628</td>\n",
       "    </tr>\n",
       "    <tr>\n",
       "      <th>2</th>\n",
       "      <td>2019</td>\n",
       "      <td>März</td>\n",
       "      <td>1110954</td>\n",
       "      <td>2642288</td>\n",
       "    </tr>\n",
       "    <tr>\n",
       "      <th>3</th>\n",
       "      <td>2019</td>\n",
       "      <td>April</td>\n",
       "      <td>1184986</td>\n",
       "      <td>3009169</td>\n",
       "    </tr>\n",
       "    <tr>\n",
       "      <th>4</th>\n",
       "      <td>2019</td>\n",
       "      <td>Mai</td>\n",
       "      <td>1277674</td>\n",
       "      <td>3010462</td>\n",
       "    </tr>\n",
       "    <tr>\n",
       "      <th>5</th>\n",
       "      <td>2019</td>\n",
       "      <td>Juni</td>\n",
       "      <td>1244717</td>\n",
       "      <td>3047930</td>\n",
       "    </tr>\n",
       "    <tr>\n",
       "      <th>6</th>\n",
       "      <td>2019</td>\n",
       "      <td>Juli</td>\n",
       "      <td>1225219</td>\n",
       "      <td>3216242</td>\n",
       "    </tr>\n",
       "    <tr>\n",
       "      <th>7</th>\n",
       "      <td>2019</td>\n",
       "      <td>August</td>\n",
       "      <td>1274832</td>\n",
       "      <td>3399163</td>\n",
       "    </tr>\n",
       "    <tr>\n",
       "      <th>8</th>\n",
       "      <td>2019</td>\n",
       "      <td>September</td>\n",
       "      <td>1255860</td>\n",
       "      <td>3035799</td>\n",
       "    </tr>\n",
       "    <tr>\n",
       "      <th>9</th>\n",
       "      <td>2019</td>\n",
       "      <td>Oktober</td>\n",
       "      <td>1273608</td>\n",
       "      <td>3120607</td>\n",
       "    </tr>\n",
       "  </tbody>\n",
       "</table>\n",
       "</div>"
      ]
     },
     "execution_count": 33,
     "metadata": {},
     "output_type": "execute_result"
    }
   ],
   "execution_count": 33
  },
  {
   "metadata": {
    "ExecuteTime": {
     "end_time": "2025-02-11T12:22:11.540145Z",
     "start_time": "2025-02-11T12:22:11.537761Z"
    }
   },
   "cell_type": "code",
   "source": [
    "month_mapping = {\n",
    "    'Januar': '1', 'Februar': '2', 'März': '3',\n",
    "    'April': '4', 'Mai': '5', 'Juni': '6', 'Juli': '7',\n",
    "    'August': '8', 'September': '9', 'Oktober': '10',\n",
    "    'November': '11', 'Dezember': '12'\n",
    "}\n",
    "\n",
    "days_in_month = {\n",
    "    'Januar': 31, 'Februar': 28, 'März': 31,\n",
    "    'April': 30, 'Mai': 31, 'Juni': 30,\n",
    "    'Juli': 31, 'August': 31, 'September': 30,\n",
    "    'Oktober': 31, 'November': 30, 'Dezember': 31\n",
    "}"
   ],
   "id": "e8a4ced86e23d6e7",
   "outputs": [],
   "execution_count": 34
  },
  {
   "metadata": {
    "ExecuteTime": {
     "end_time": "2025-02-11T12:22:11.571613Z",
     "start_time": "2025-02-11T12:22:11.566600Z"
    }
   },
   "cell_type": "code",
   "source": [
    "df['Days'] = df['Month'].map(days_in_month)\n",
    "df['Month'] = df['Month'].map(month_mapping)\n",
    "\n",
    "df.head(10)"
   ],
   "id": "9a37bf22304226a2",
   "outputs": [
    {
     "data": {
      "text/plain": [
       "   Year Month Tour_Arrivals Tour_Stays  Days\n",
       "0  2019     1        914931    2159841  31.0\n",
       "1  2019     2        949002    2235628  28.0\n",
       "2  2019     3       1110954    2642288  31.0\n",
       "3  2019     4       1184986    3009169  30.0\n",
       "4  2019     5       1277674    3010462  31.0\n",
       "5  2019     6       1244717    3047930  30.0\n",
       "6  2019     7       1225219    3216242  31.0\n",
       "7  2019     8       1274832    3399163  31.0\n",
       "8  2019     9       1255860    3035799  30.0\n",
       "9  2019    10       1273608    3120607  31.0"
      ],
      "text/html": [
       "<div>\n",
       "<style scoped>\n",
       "    .dataframe tbody tr th:only-of-type {\n",
       "        vertical-align: middle;\n",
       "    }\n",
       "\n",
       "    .dataframe tbody tr th {\n",
       "        vertical-align: top;\n",
       "    }\n",
       "\n",
       "    .dataframe thead th {\n",
       "        text-align: right;\n",
       "    }\n",
       "</style>\n",
       "<table border=\"1\" class=\"dataframe\">\n",
       "  <thead>\n",
       "    <tr style=\"text-align: right;\">\n",
       "      <th></th>\n",
       "      <th>Year</th>\n",
       "      <th>Month</th>\n",
       "      <th>Tour_Arrivals</th>\n",
       "      <th>Tour_Stays</th>\n",
       "      <th>Days</th>\n",
       "    </tr>\n",
       "  </thead>\n",
       "  <tbody>\n",
       "    <tr>\n",
       "      <th>0</th>\n",
       "      <td>2019</td>\n",
       "      <td>1</td>\n",
       "      <td>914931</td>\n",
       "      <td>2159841</td>\n",
       "      <td>31.0</td>\n",
       "    </tr>\n",
       "    <tr>\n",
       "      <th>1</th>\n",
       "      <td>2019</td>\n",
       "      <td>2</td>\n",
       "      <td>949002</td>\n",
       "      <td>2235628</td>\n",
       "      <td>28.0</td>\n",
       "    </tr>\n",
       "    <tr>\n",
       "      <th>2</th>\n",
       "      <td>2019</td>\n",
       "      <td>3</td>\n",
       "      <td>1110954</td>\n",
       "      <td>2642288</td>\n",
       "      <td>31.0</td>\n",
       "    </tr>\n",
       "    <tr>\n",
       "      <th>3</th>\n",
       "      <td>2019</td>\n",
       "      <td>4</td>\n",
       "      <td>1184986</td>\n",
       "      <td>3009169</td>\n",
       "      <td>30.0</td>\n",
       "    </tr>\n",
       "    <tr>\n",
       "      <th>4</th>\n",
       "      <td>2019</td>\n",
       "      <td>5</td>\n",
       "      <td>1277674</td>\n",
       "      <td>3010462</td>\n",
       "      <td>31.0</td>\n",
       "    </tr>\n",
       "    <tr>\n",
       "      <th>5</th>\n",
       "      <td>2019</td>\n",
       "      <td>6</td>\n",
       "      <td>1244717</td>\n",
       "      <td>3047930</td>\n",
       "      <td>30.0</td>\n",
       "    </tr>\n",
       "    <tr>\n",
       "      <th>6</th>\n",
       "      <td>2019</td>\n",
       "      <td>7</td>\n",
       "      <td>1225219</td>\n",
       "      <td>3216242</td>\n",
       "      <td>31.0</td>\n",
       "    </tr>\n",
       "    <tr>\n",
       "      <th>7</th>\n",
       "      <td>2019</td>\n",
       "      <td>8</td>\n",
       "      <td>1274832</td>\n",
       "      <td>3399163</td>\n",
       "      <td>31.0</td>\n",
       "    </tr>\n",
       "    <tr>\n",
       "      <th>8</th>\n",
       "      <td>2019</td>\n",
       "      <td>9</td>\n",
       "      <td>1255860</td>\n",
       "      <td>3035799</td>\n",
       "      <td>30.0</td>\n",
       "    </tr>\n",
       "    <tr>\n",
       "      <th>9</th>\n",
       "      <td>2019</td>\n",
       "      <td>10</td>\n",
       "      <td>1273608</td>\n",
       "      <td>3120607</td>\n",
       "      <td>31.0</td>\n",
       "    </tr>\n",
       "  </tbody>\n",
       "</table>\n",
       "</div>"
      ]
     },
     "execution_count": 35,
     "metadata": {},
     "output_type": "execute_result"
    }
   ],
   "execution_count": 35
  },
  {
   "metadata": {
    "ExecuteTime": {
     "end_time": "2025-02-11T12:22:11.624018Z",
     "start_time": "2025-02-11T12:22:11.620661Z"
    }
   },
   "cell_type": "code",
   "source": [
    "df['Tour_Arrivals'] = pd.to_numeric(df['Tour_Arrivals'], errors='coerce')\n",
    "df['Tour_Stays'] = pd.to_numeric(df['Tour_Stays'], errors='coerce')\n",
    "\n",
    "# Calculate average daily arrivals and stays\n",
    "df['Avg_Daily_Arrivals'] = df['Tour_Arrivals'] / df['Days']\n",
    "df['Avg_Daily_Stays'] = df['Tour_Stays'] / df['Days']\n",
    "\n",
    "# Retain only necessary columns\n",
    "df = df[['Month', 'Year', 'Tour_Arrivals', 'Tour_Stays', 'Avg_Daily_Arrivals', 'Avg_Daily_Stays']]"
   ],
   "id": "5a5bf585057af8f6",
   "outputs": [],
   "execution_count": 36
  },
  {
   "metadata": {
    "ExecuteTime": {
     "end_time": "2025-02-11T12:22:11.653279Z",
     "start_time": "2025-02-11T12:22:11.647948Z"
    }
   },
   "cell_type": "code",
   "source": [
    "df['Avg_Daily_Arrivals'] = df['Avg_Daily_Arrivals'].apply(np.round)\n",
    "df['Avg_Daily_Stays'] = df['Avg_Daily_Stays'].apply(np.round)\n",
    "df[\"Month\"] = df[\"Month\"].astype(str)\n",
    "df.head()"
   ],
   "id": "856689172c3b1af3",
   "outputs": [
    {
     "data": {
      "text/plain": [
       "  Month  Year  Tour_Arrivals  Tour_Stays  Avg_Daily_Arrivals  Avg_Daily_Stays\n",
       "0     1  2019       914931.0   2159841.0             29514.0          69672.0\n",
       "1     2  2019       949002.0   2235628.0             33893.0          79844.0\n",
       "2     3  2019      1110954.0   2642288.0             35837.0          85235.0\n",
       "3     4  2019      1184986.0   3009169.0             39500.0         100306.0\n",
       "4     5  2019      1277674.0   3010462.0             41215.0          97112.0"
      ],
      "text/html": [
       "<div>\n",
       "<style scoped>\n",
       "    .dataframe tbody tr th:only-of-type {\n",
       "        vertical-align: middle;\n",
       "    }\n",
       "\n",
       "    .dataframe tbody tr th {\n",
       "        vertical-align: top;\n",
       "    }\n",
       "\n",
       "    .dataframe thead th {\n",
       "        text-align: right;\n",
       "    }\n",
       "</style>\n",
       "<table border=\"1\" class=\"dataframe\">\n",
       "  <thead>\n",
       "    <tr style=\"text-align: right;\">\n",
       "      <th></th>\n",
       "      <th>Month</th>\n",
       "      <th>Year</th>\n",
       "      <th>Tour_Arrivals</th>\n",
       "      <th>Tour_Stays</th>\n",
       "      <th>Avg_Daily_Arrivals</th>\n",
       "      <th>Avg_Daily_Stays</th>\n",
       "    </tr>\n",
       "  </thead>\n",
       "  <tbody>\n",
       "    <tr>\n",
       "      <th>0</th>\n",
       "      <td>1</td>\n",
       "      <td>2019</td>\n",
       "      <td>914931.0</td>\n",
       "      <td>2159841.0</td>\n",
       "      <td>29514.0</td>\n",
       "      <td>69672.0</td>\n",
       "    </tr>\n",
       "    <tr>\n",
       "      <th>1</th>\n",
       "      <td>2</td>\n",
       "      <td>2019</td>\n",
       "      <td>949002.0</td>\n",
       "      <td>2235628.0</td>\n",
       "      <td>33893.0</td>\n",
       "      <td>79844.0</td>\n",
       "    </tr>\n",
       "    <tr>\n",
       "      <th>2</th>\n",
       "      <td>3</td>\n",
       "      <td>2019</td>\n",
       "      <td>1110954.0</td>\n",
       "      <td>2642288.0</td>\n",
       "      <td>35837.0</td>\n",
       "      <td>85235.0</td>\n",
       "    </tr>\n",
       "    <tr>\n",
       "      <th>3</th>\n",
       "      <td>4</td>\n",
       "      <td>2019</td>\n",
       "      <td>1184986.0</td>\n",
       "      <td>3009169.0</td>\n",
       "      <td>39500.0</td>\n",
       "      <td>100306.0</td>\n",
       "    </tr>\n",
       "    <tr>\n",
       "      <th>4</th>\n",
       "      <td>5</td>\n",
       "      <td>2019</td>\n",
       "      <td>1277674.0</td>\n",
       "      <td>3010462.0</td>\n",
       "      <td>41215.0</td>\n",
       "      <td>97112.0</td>\n",
       "    </tr>\n",
       "  </tbody>\n",
       "</table>\n",
       "</div>"
      ]
     },
     "execution_count": 37,
     "metadata": {},
     "output_type": "execute_result"
    }
   ],
   "execution_count": 37
  },
  {
   "metadata": {
    "ExecuteTime": {
     "end_time": "2025-02-11T12:22:11.677094Z",
     "start_time": "2025-02-11T12:22:11.674472Z"
    }
   },
   "cell_type": "code",
   "source": "df.to_csv('../data/tourism_clean.csv', index=False)",
   "id": "fe4145c423dea444",
   "outputs": [],
   "execution_count": 38
  }
 ],
 "metadata": {
  "kernelspec": {
   "display_name": "Python 3",
   "language": "python",
   "name": "python3"
  },
  "language_info": {
   "codemirror_mode": {
    "name": "ipython",
    "version": 2
   },
   "file_extension": ".py",
   "mimetype": "text/x-python",
   "name": "python",
   "nbconvert_exporter": "python",
   "pygments_lexer": "ipython2",
   "version": "2.7.6"
  }
 },
 "nbformat": 4,
 "nbformat_minor": 5
}
