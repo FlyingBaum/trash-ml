{
 "cells": [
  {
   "cell_type": "code",
   "id": "initial_id",
   "metadata": {
    "collapsed": true,
    "ExecuteTime": {
     "end_time": "2025-02-12T13:17:45.894965Z",
     "start_time": "2025-02-12T13:17:45.492082Z"
    }
   },
   "source": [
    "import pandas as pd\n",
    "import matplotlib.pyplot as plt"
   ],
   "outputs": [],
   "execution_count": 1
  },
  {
   "metadata": {
    "ExecuteTime": {
     "end_time": "2025-02-12T13:17:46.164416Z",
     "start_time": "2025-02-12T13:17:45.899698Z"
    }
   },
   "cell_type": "code",
   "source": [
    "df = pd.read_csv('../data/trash-amounts-tourist.csv', dtype={\n",
    "    'Month': str,\n",
    "    'CW': str,\n",
    "    'Year': str,\n",
    "    'Tour': str\n",
    "})\n",
    "df['Tonnage'] = pd.to_numeric(df['Tonnage'].str.replace(',', '.'))\n",
    "\n",
    "df.head()"
   ],
   "id": "eb065bde8f47400e",
   "outputs": [
    {
     "data": {
      "text/plain": [
       "  Month CW  Year      Date Yard  Shift Tour  Tonnage Type  Tour_Arrivals  \\\n",
       "0     1  1  2019  02.01.19  VMF      1    1     5.59  BIO       914931.0   \n",
       "1     1  1  2019  02.01.19  VMF      1    4     3.23  BIO       914931.0   \n",
       "2     1  1  2019  02.01.19  VMF      1    5     5.68  BIO       914931.0   \n",
       "3     1  1  2019  02.01.19  VMF      1    6     5.48  BIO       914931.0   \n",
       "4     1  1  2019  02.01.19  VMF      1    7     7.84  BIO       914931.0   \n",
       "\n",
       "   Tour_Stays  Avg_Daily_Arrivals  Avg_Daily_Stays  \n",
       "0   2159841.0             29514.0          69672.0  \n",
       "1   2159841.0             29514.0          69672.0  \n",
       "2   2159841.0             29514.0          69672.0  \n",
       "3   2159841.0             29514.0          69672.0  \n",
       "4   2159841.0             29514.0          69672.0  "
      ],
      "text/html": [
       "<div>\n",
       "<style scoped>\n",
       "    .dataframe tbody tr th:only-of-type {\n",
       "        vertical-align: middle;\n",
       "    }\n",
       "\n",
       "    .dataframe tbody tr th {\n",
       "        vertical-align: top;\n",
       "    }\n",
       "\n",
       "    .dataframe thead th {\n",
       "        text-align: right;\n",
       "    }\n",
       "</style>\n",
       "<table border=\"1\" class=\"dataframe\">\n",
       "  <thead>\n",
       "    <tr style=\"text-align: right;\">\n",
       "      <th></th>\n",
       "      <th>Month</th>\n",
       "      <th>CW</th>\n",
       "      <th>Year</th>\n",
       "      <th>Date</th>\n",
       "      <th>Yard</th>\n",
       "      <th>Shift</th>\n",
       "      <th>Tour</th>\n",
       "      <th>Tonnage</th>\n",
       "      <th>Type</th>\n",
       "      <th>Tour_Arrivals</th>\n",
       "      <th>Tour_Stays</th>\n",
       "      <th>Avg_Daily_Arrivals</th>\n",
       "      <th>Avg_Daily_Stays</th>\n",
       "    </tr>\n",
       "  </thead>\n",
       "  <tbody>\n",
       "    <tr>\n",
       "      <th>0</th>\n",
       "      <td>1</td>\n",
       "      <td>1</td>\n",
       "      <td>2019</td>\n",
       "      <td>02.01.19</td>\n",
       "      <td>VMF</td>\n",
       "      <td>1</td>\n",
       "      <td>1</td>\n",
       "      <td>5.59</td>\n",
       "      <td>BIO</td>\n",
       "      <td>914931.0</td>\n",
       "      <td>2159841.0</td>\n",
       "      <td>29514.0</td>\n",
       "      <td>69672.0</td>\n",
       "    </tr>\n",
       "    <tr>\n",
       "      <th>1</th>\n",
       "      <td>1</td>\n",
       "      <td>1</td>\n",
       "      <td>2019</td>\n",
       "      <td>02.01.19</td>\n",
       "      <td>VMF</td>\n",
       "      <td>1</td>\n",
       "      <td>4</td>\n",
       "      <td>3.23</td>\n",
       "      <td>BIO</td>\n",
       "      <td>914931.0</td>\n",
       "      <td>2159841.0</td>\n",
       "      <td>29514.0</td>\n",
       "      <td>69672.0</td>\n",
       "    </tr>\n",
       "    <tr>\n",
       "      <th>2</th>\n",
       "      <td>1</td>\n",
       "      <td>1</td>\n",
       "      <td>2019</td>\n",
       "      <td>02.01.19</td>\n",
       "      <td>VMF</td>\n",
       "      <td>1</td>\n",
       "      <td>5</td>\n",
       "      <td>5.68</td>\n",
       "      <td>BIO</td>\n",
       "      <td>914931.0</td>\n",
       "      <td>2159841.0</td>\n",
       "      <td>29514.0</td>\n",
       "      <td>69672.0</td>\n",
       "    </tr>\n",
       "    <tr>\n",
       "      <th>3</th>\n",
       "      <td>1</td>\n",
       "      <td>1</td>\n",
       "      <td>2019</td>\n",
       "      <td>02.01.19</td>\n",
       "      <td>VMF</td>\n",
       "      <td>1</td>\n",
       "      <td>6</td>\n",
       "      <td>5.48</td>\n",
       "      <td>BIO</td>\n",
       "      <td>914931.0</td>\n",
       "      <td>2159841.0</td>\n",
       "      <td>29514.0</td>\n",
       "      <td>69672.0</td>\n",
       "    </tr>\n",
       "    <tr>\n",
       "      <th>4</th>\n",
       "      <td>1</td>\n",
       "      <td>1</td>\n",
       "      <td>2019</td>\n",
       "      <td>02.01.19</td>\n",
       "      <td>VMF</td>\n",
       "      <td>1</td>\n",
       "      <td>7</td>\n",
       "      <td>7.84</td>\n",
       "      <td>BIO</td>\n",
       "      <td>914931.0</td>\n",
       "      <td>2159841.0</td>\n",
       "      <td>29514.0</td>\n",
       "      <td>69672.0</td>\n",
       "    </tr>\n",
       "  </tbody>\n",
       "</table>\n",
       "</div>"
      ]
     },
     "execution_count": 2,
     "metadata": {},
     "output_type": "execute_result"
    }
   ],
   "execution_count": 2
  },
  {
   "metadata": {
    "ExecuteTime": {
     "end_time": "2025-02-12T13:17:46.349951Z",
     "start_time": "2025-02-12T13:17:46.276406Z"
    }
   },
   "cell_type": "code",
   "source": [
    "# Get unique trash type\n",
    "unique_types = df['Type'].unique()\n",
    "\n",
    "# Add a column for each year\n",
    "for type in unique_types:\n",
    "    column_name = f\"Type_{type}\"\n",
    "    df[column_name] = df['Type'] == type\n",
    "\n",
    "df.head()"
   ],
   "id": "461e4bc461cc667d",
   "outputs": [
    {
     "data": {
      "text/plain": [
       "  Month CW  Year      Date Yard  Shift Tour  Tonnage Type  Tour_Arrivals  \\\n",
       "0     1  1  2019  02.01.19  VMF      1    1     5.59  BIO       914931.0   \n",
       "1     1  1  2019  02.01.19  VMF      1    4     3.23  BIO       914931.0   \n",
       "2     1  1  2019  02.01.19  VMF      1    5     5.68  BIO       914931.0   \n",
       "3     1  1  2019  02.01.19  VMF      1    6     5.48  BIO       914931.0   \n",
       "4     1  1  2019  02.01.19  VMF      1    7     7.84  BIO       914931.0   \n",
       "\n",
       "   Tour_Stays  Avg_Daily_Arrivals  Avg_Daily_Stays  Type_BIO  Type_HM  \\\n",
       "0   2159841.0             29514.0          69672.0      True    False   \n",
       "1   2159841.0             29514.0          69672.0      True    False   \n",
       "2   2159841.0             29514.0          69672.0      True    False   \n",
       "3   2159841.0             29514.0          69672.0      True    False   \n",
       "4   2159841.0             29514.0          69672.0      True    False   \n",
       "\n",
       "   Type_SPM Sammlung  \n",
       "0              False  \n",
       "1              False  \n",
       "2              False  \n",
       "3              False  \n",
       "4              False  "
      ],
      "text/html": [
       "<div>\n",
       "<style scoped>\n",
       "    .dataframe tbody tr th:only-of-type {\n",
       "        vertical-align: middle;\n",
       "    }\n",
       "\n",
       "    .dataframe tbody tr th {\n",
       "        vertical-align: top;\n",
       "    }\n",
       "\n",
       "    .dataframe thead th {\n",
       "        text-align: right;\n",
       "    }\n",
       "</style>\n",
       "<table border=\"1\" class=\"dataframe\">\n",
       "  <thead>\n",
       "    <tr style=\"text-align: right;\">\n",
       "      <th></th>\n",
       "      <th>Month</th>\n",
       "      <th>CW</th>\n",
       "      <th>Year</th>\n",
       "      <th>Date</th>\n",
       "      <th>Yard</th>\n",
       "      <th>Shift</th>\n",
       "      <th>Tour</th>\n",
       "      <th>Tonnage</th>\n",
       "      <th>Type</th>\n",
       "      <th>Tour_Arrivals</th>\n",
       "      <th>Tour_Stays</th>\n",
       "      <th>Avg_Daily_Arrivals</th>\n",
       "      <th>Avg_Daily_Stays</th>\n",
       "      <th>Type_BIO</th>\n",
       "      <th>Type_HM</th>\n",
       "      <th>Type_SPM Sammlung</th>\n",
       "    </tr>\n",
       "  </thead>\n",
       "  <tbody>\n",
       "    <tr>\n",
       "      <th>0</th>\n",
       "      <td>1</td>\n",
       "      <td>1</td>\n",
       "      <td>2019</td>\n",
       "      <td>02.01.19</td>\n",
       "      <td>VMF</td>\n",
       "      <td>1</td>\n",
       "      <td>1</td>\n",
       "      <td>5.59</td>\n",
       "      <td>BIO</td>\n",
       "      <td>914931.0</td>\n",
       "      <td>2159841.0</td>\n",
       "      <td>29514.0</td>\n",
       "      <td>69672.0</td>\n",
       "      <td>True</td>\n",
       "      <td>False</td>\n",
       "      <td>False</td>\n",
       "    </tr>\n",
       "    <tr>\n",
       "      <th>1</th>\n",
       "      <td>1</td>\n",
       "      <td>1</td>\n",
       "      <td>2019</td>\n",
       "      <td>02.01.19</td>\n",
       "      <td>VMF</td>\n",
       "      <td>1</td>\n",
       "      <td>4</td>\n",
       "      <td>3.23</td>\n",
       "      <td>BIO</td>\n",
       "      <td>914931.0</td>\n",
       "      <td>2159841.0</td>\n",
       "      <td>29514.0</td>\n",
       "      <td>69672.0</td>\n",
       "      <td>True</td>\n",
       "      <td>False</td>\n",
       "      <td>False</td>\n",
       "    </tr>\n",
       "    <tr>\n",
       "      <th>2</th>\n",
       "      <td>1</td>\n",
       "      <td>1</td>\n",
       "      <td>2019</td>\n",
       "      <td>02.01.19</td>\n",
       "      <td>VMF</td>\n",
       "      <td>1</td>\n",
       "      <td>5</td>\n",
       "      <td>5.68</td>\n",
       "      <td>BIO</td>\n",
       "      <td>914931.0</td>\n",
       "      <td>2159841.0</td>\n",
       "      <td>29514.0</td>\n",
       "      <td>69672.0</td>\n",
       "      <td>True</td>\n",
       "      <td>False</td>\n",
       "      <td>False</td>\n",
       "    </tr>\n",
       "    <tr>\n",
       "      <th>3</th>\n",
       "      <td>1</td>\n",
       "      <td>1</td>\n",
       "      <td>2019</td>\n",
       "      <td>02.01.19</td>\n",
       "      <td>VMF</td>\n",
       "      <td>1</td>\n",
       "      <td>6</td>\n",
       "      <td>5.48</td>\n",
       "      <td>BIO</td>\n",
       "      <td>914931.0</td>\n",
       "      <td>2159841.0</td>\n",
       "      <td>29514.0</td>\n",
       "      <td>69672.0</td>\n",
       "      <td>True</td>\n",
       "      <td>False</td>\n",
       "      <td>False</td>\n",
       "    </tr>\n",
       "    <tr>\n",
       "      <th>4</th>\n",
       "      <td>1</td>\n",
       "      <td>1</td>\n",
       "      <td>2019</td>\n",
       "      <td>02.01.19</td>\n",
       "      <td>VMF</td>\n",
       "      <td>1</td>\n",
       "      <td>7</td>\n",
       "      <td>7.84</td>\n",
       "      <td>BIO</td>\n",
       "      <td>914931.0</td>\n",
       "      <td>2159841.0</td>\n",
       "      <td>29514.0</td>\n",
       "      <td>69672.0</td>\n",
       "      <td>True</td>\n",
       "      <td>False</td>\n",
       "      <td>False</td>\n",
       "    </tr>\n",
       "  </tbody>\n",
       "</table>\n",
       "</div>"
      ]
     },
     "execution_count": 3,
     "metadata": {},
     "output_type": "execute_result"
    }
   ],
   "execution_count": 3
  },
  {
   "metadata": {
    "ExecuteTime": {
     "end_time": "2025-02-12T13:17:46.496909Z",
     "start_time": "2025-02-12T13:17:46.370184Z"
    }
   },
   "cell_type": "code",
   "source": [
    "# Identify columns that contain 'tour' (case-insensitive)\n",
    "month_columns = [col for col in df.columns if 'type_' in col.lower()]\n",
    "\n",
    "# Ensure 'Tonnage' is included\n",
    "columns_to_include = month_columns + ['Tonnage']\n",
    "\n",
    "# Calculate the correlation matrix for these columns\n",
    "corr_matrix = df[columns_to_include].corr()\n",
    "\n",
    "print(corr_matrix)\n",
    "\n",
    "\n",
    "plt.matshow(corr_matrix)\n",
    "plt.xticks(range(len(corr_matrix.columns)), corr_matrix.columns)\n",
    "plt.yticks(range(len(corr_matrix.columns)), corr_matrix.columns)\n",
    "plt.colorbar()\n",
    "plt.show()\n"
   ],
   "id": "874b61e3da45ea68",
   "outputs": [
    {
     "name": "stdout",
     "output_type": "stream",
     "text": [
      "                   Type_BIO   Type_HM  Type_SPM Sammlung   Tonnage\n",
      "Type_BIO           1.000000 -0.840846          -0.131992 -0.397878\n",
      "Type_HM           -0.840846  1.000000          -0.425554  0.580668\n",
      "Type_SPM Sammlung -0.131992 -0.425554           1.000000 -0.398200\n",
      "Tonnage           -0.397878  0.580668          -0.398200  1.000000\n"
     ]
    },
    {
     "data": {
      "text/plain": [
       "<Figure size 480x480 with 2 Axes>"
      ],
      "image/png": "[encoded data removed]"
     },
     "metadata": {},
     "output_type": "display_data"
    }
   ],
   "execution_count": 4
  },
  {
   "metadata": {
    "ExecuteTime": {
     "end_time": "2025-02-12T13:17:46.531497Z",
     "start_time": "2025-02-12T13:17:46.520012Z"
    }
   },
   "cell_type": "code",
   "source": [
    "type_df = df[['Date', 'Type', 'Tonnage']]\n",
    "\n",
    "type_df.head()"
   ],
   "id": "ecaac686996b61ab",
   "outputs": [
    {
     "data": {
      "text/plain": [
       "       Date Type  Tonnage\n",
       "0  02.01.19  BIO     5.59\n",
       "1  02.01.19  BIO     3.23\n",
       "2  02.01.19  BIO     5.68\n",
       "3  02.01.19  BIO     5.48\n",
       "4  02.01.19  BIO     7.84"
      ],
      "text/html": [
       "<div>\n",
       "<style scoped>\n",
       "    .dataframe tbody tr th:only-of-type {\n",
       "        vertical-align: middle;\n",
       "    }\n",
       "\n",
       "    .dataframe tbody tr th {\n",
       "        vertical-align: top;\n",
       "    }\n",
       "\n",
       "    .dataframe thead th {\n",
       "        text-align: right;\n",
       "    }\n",
       "</style>\n",
       "<table border=\"1\" class=\"dataframe\">\n",
       "  <thead>\n",
       "    <tr style=\"text-align: right;\">\n",
       "      <th></th>\n",
       "      <th>Date</th>\n",
       "      <th>Type</th>\n",
       "      <th>Tonnage</th>\n",
       "    </tr>\n",
       "  </thead>\n",
       "  <tbody>\n",
       "    <tr>\n",
       "      <th>0</th>\n",
       "      <td>02.01.19</td>\n",
       "      <td>BIO</td>\n",
       "      <td>5.59</td>\n",
       "    </tr>\n",
       "    <tr>\n",
       "      <th>1</th>\n",
       "      <td>02.01.19</td>\n",
       "      <td>BIO</td>\n",
       "      <td>3.23</td>\n",
       "    </tr>\n",
       "    <tr>\n",
       "      <th>2</th>\n",
       "      <td>02.01.19</td>\n",
       "      <td>BIO</td>\n",
       "      <td>5.68</td>\n",
       "    </tr>\n",
       "    <tr>\n",
       "      <th>3</th>\n",
       "      <td>02.01.19</td>\n",
       "      <td>BIO</td>\n",
       "      <td>5.48</td>\n",
       "    </tr>\n",
       "    <tr>\n",
       "      <th>4</th>\n",
       "      <td>02.01.19</td>\n",
       "      <td>BIO</td>\n",
       "      <td>7.84</td>\n",
       "    </tr>\n",
       "  </tbody>\n",
       "</table>\n",
       "</div>"
      ]
     },
     "execution_count": 5,
     "metadata": {},
     "output_type": "execute_result"
    }
   ],
   "execution_count": 5
  },
  {
   "metadata": {
    "ExecuteTime": {
     "end_time": "2025-02-12T13:17:46.598914Z",
     "start_time": "2025-02-12T13:17:46.565845Z"
    }
   },
   "cell_type": "code",
   "source": [
    "grouped_type_df = df.groupby(['Date', 'Type'], as_index=False)['Tonnage'].sum()\n",
    "grouped_type_df.head()"
   ],
   "id": "c6983858fb4e577d",
   "outputs": [
    {
     "data": {
      "text/plain": [
       "       Date          Type  Tonnage\n",
       "0  01.02.19           BIO   304.45\n",
       "1  01.02.19            HM  2854.95\n",
       "2  01.02.19  SPM Sammlung    44.68\n",
       "3  01.02.21           BIO   129.81\n",
       "4  01.02.21            HM  3672.56"
      ],
      "text/html": [
       "<div>\n",
       "<style scoped>\n",
       "    .dataframe tbody tr th:only-of-type {\n",
       "        vertical-align: middle;\n",
       "    }\n",
       "\n",
       "    .dataframe tbody tr th {\n",
       "        vertical-align: top;\n",
       "    }\n",
       "\n",
       "    .dataframe thead th {\n",
       "        text-align: right;\n",
       "    }\n",
       "</style>\n",
       "<table border=\"1\" class=\"dataframe\">\n",
       "  <thead>\n",
       "    <tr style=\"text-align: right;\">\n",
       "      <th></th>\n",
       "      <th>Date</th>\n",
       "      <th>Type</th>\n",
       "      <th>Tonnage</th>\n",
       "    </tr>\n",
       "  </thead>\n",
       "  <tbody>\n",
       "    <tr>\n",
       "      <th>0</th>\n",
       "      <td>01.02.19</td>\n",
       "      <td>BIO</td>\n",
       "      <td>304.45</td>\n",
       "    </tr>\n",
       "    <tr>\n",
       "      <th>1</th>\n",
       "      <td>01.02.19</td>\n",
       "      <td>HM</td>\n",
       "      <td>2854.95</td>\n",
       "    </tr>\n",
       "    <tr>\n",
       "      <th>2</th>\n",
       "      <td>01.02.19</td>\n",
       "      <td>SPM Sammlung</td>\n",
       "      <td>44.68</td>\n",
       "    </tr>\n",
       "    <tr>\n",
       "      <th>3</th>\n",
       "      <td>01.02.21</td>\n",
       "      <td>BIO</td>\n",
       "      <td>129.81</td>\n",
       "    </tr>\n",
       "    <tr>\n",
       "      <th>4</th>\n",
       "      <td>01.02.21</td>\n",
       "      <td>HM</td>\n",
       "      <td>3672.56</td>\n",
       "    </tr>\n",
       "  </tbody>\n",
       "</table>\n",
       "</div>"
      ]
     },
     "execution_count": 6,
     "metadata": {},
     "output_type": "execute_result"
    }
   ],
   "execution_count": 6
  },
  {
   "metadata": {
    "ExecuteTime": {
     "end_time": "2025-02-12T13:17:46.665735Z",
     "start_time": "2025-02-12T13:17:46.651460Z"
    }
   },
   "cell_type": "code",
   "source": [
    "# Get unique trash type\n",
    "unique_types = df['Type'].unique()\n",
    "\n",
    "# Add a column for each year\n",
    "for type in unique_types:\n",
    "    column_name = f\"Type_{type}\"\n",
    "    grouped_type_df[column_name] = grouped_type_df['Type'] == type\n",
    "\n",
    "grouped_type_df.head()"
   ],
   "id": "c2ef7bc27dcc7a3c",
   "outputs": [
    {
     "data": {
      "text/plain": [
       "       Date          Type  Tonnage  Type_BIO  Type_HM  Type_SPM Sammlung\n",
       "0  01.02.19           BIO   304.45      True    False              False\n",
       "1  01.02.19            HM  2854.95     False     True              False\n",
       "2  01.02.19  SPM Sammlung    44.68     False    False               True\n",
       "3  01.02.21           BIO   129.81      True    False              False\n",
       "4  01.02.21            HM  3672.56     False     True              False"
      ],
      "text/html": [
       "<div>\n",
       "<style scoped>\n",
       "    .dataframe tbody tr th:only-of-type {\n",
       "        vertical-align: middle;\n",
       "    }\n",
       "\n",
       "    .dataframe tbody tr th {\n",
       "        vertical-align: top;\n",
       "    }\n",
       "\n",
       "    .dataframe thead th {\n",
       "        text-align: right;\n",
       "    }\n",
       "</style>\n",
       "<table border=\"1\" class=\"dataframe\">\n",
       "  <thead>\n",
       "    <tr style=\"text-align: right;\">\n",
       "      <th></th>\n",
       "      <th>Date</th>\n",
       "      <th>Type</th>\n",
       "      <th>Tonnage</th>\n",
       "      <th>Type_BIO</th>\n",
       "      <th>Type_HM</th>\n",
       "      <th>Type_SPM Sammlung</th>\n",
       "    </tr>\n",
       "  </thead>\n",
       "  <tbody>\n",
       "    <tr>\n",
       "      <th>0</th>\n",
       "      <td>01.02.19</td>\n",
       "      <td>BIO</td>\n",
       "      <td>304.45</td>\n",
       "      <td>True</td>\n",
       "      <td>False</td>\n",
       "      <td>False</td>\n",
       "    </tr>\n",
       "    <tr>\n",
       "      <th>1</th>\n",
       "      <td>01.02.19</td>\n",
       "      <td>HM</td>\n",
       "      <td>2854.95</td>\n",
       "      <td>False</td>\n",
       "      <td>True</td>\n",
       "      <td>False</td>\n",
       "    </tr>\n",
       "    <tr>\n",
       "      <th>2</th>\n",
       "      <td>01.02.19</td>\n",
       "      <td>SPM Sammlung</td>\n",
       "      <td>44.68</td>\n",
       "      <td>False</td>\n",
       "      <td>False</td>\n",
       "      <td>True</td>\n",
       "    </tr>\n",
       "    <tr>\n",
       "      <th>3</th>\n",
       "      <td>01.02.21</td>\n",
       "      <td>BIO</td>\n",
       "      <td>129.81</td>\n",
       "      <td>True</td>\n",
       "      <td>False</td>\n",
       "      <td>False</td>\n",
       "    </tr>\n",
       "    <tr>\n",
       "      <th>4</th>\n",
       "      <td>01.02.21</td>\n",
       "      <td>HM</td>\n",
       "      <td>3672.56</td>\n",
       "      <td>False</td>\n",
       "      <td>True</td>\n",
       "      <td>False</td>\n",
       "    </tr>\n",
       "  </tbody>\n",
       "</table>\n",
       "</div>"
      ]
     },
     "execution_count": 7,
     "metadata": {},
     "output_type": "execute_result"
    }
   ],
   "execution_count": 7
  },
  {
   "metadata": {
    "ExecuteTime": {
     "end_time": "2025-02-12T13:17:46.733796Z",
     "start_time": "2025-02-12T13:17:46.730293Z"
    }
   },
   "cell_type": "code",
   "source": [
    "matrix = grouped_type_df[['Tonnage', 'Type_BIO', 'Type_HM', 'Type_SPM Sammlung']].corr()\n",
    "print(matrix)"
   ],
   "id": "1290768018654538",
   "outputs": [
    {
     "name": "stdout",
     "output_type": "stream",
     "text": [
      "                    Tonnage  Type_BIO   Type_HM  Type_SPM Sammlung\n",
      "Tonnage            1.000000 -0.344379  0.952257          -0.592933\n",
      "Type_BIO          -0.344379  1.000000 -0.473569          -0.512463\n",
      "Type_HM            0.952257 -0.473569  1.000000          -0.513627\n",
      "Type_SPM Sammlung -0.592933 -0.512463 -0.513627           1.000000\n"
     ]
    }
   ],
   "execution_count": 8
  },
  {
   "metadata": {
    "ExecuteTime": {
     "end_time": "2025-02-12T13:17:46.864505Z",
     "start_time": "2025-02-12T13:17:46.762579Z"
    }
   },
   "cell_type": "code",
   "source": [
    "plt.matshow(matrix)\n",
    "plt.xticks(range(len(matrix.columns)), matrix.columns)\n",
    "plt.yticks(range(len(matrix.columns)), matrix.columns)\n",
    "plt.colorbar()\n",
    "plt.show()"
   ],
   "id": "f22fb6d4e142f054",
   "outputs": [
    {
     "data": {
      "text/plain": [
       "<Figure size 480x480 with 2 Axes>"
      ],
      "image/png": "[encoded data removed]"
     },
     "metadata": {},
     "output_type": "display_data"
    }
   ],
   "execution_count": 9
  },
  {
   "metadata": {
    "ExecuteTime": {
     "end_time": "2025-02-12T13:17:46.877192Z",
     "start_time": "2025-02-12T13:17:46.875577Z"
    }
   },
   "cell_type": "code",
   "source": "",
   "id": "1c6b98d4a0ebddf5",
   "outputs": [],
   "execution_count": null
  }
 ],
 "metadata": {
  "kernelspec": {
   "display_name": "Python 3",
   "language": "python",
   "name": "python3"
  },
  "language_info": {
   "codemirror_mode": {
    "name": "ipython",
    "version": 2
   },
   "file_extension": ".py",
   "mimetype": "text/x-python",
   "name": "python",
   "nbconvert_exporter": "python",
   "pygments_lexer": "ipython2",
   "version": "2.7.6"
  }
 },
 "nbformat": 4,
 "nbformat_minor": 5
}
