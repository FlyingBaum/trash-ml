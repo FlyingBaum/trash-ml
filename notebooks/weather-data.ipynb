{
 "cells": [
  {
   "cell_type": "code",
   "execution_count": 1,
   "metadata": {},
   "outputs": [],
   "source": [
    "from datetime import datetime\n",
    "from meteostat import Daily\n",
    "import ssl\n",
    "\n",
    "# Set SSL context.\n",
    "ssl._create_default_https_context = ssl._create_unverified_context\n",
    "\n",
    "# Set time period.\n",
    "start = datetime(2019, 1, 1)\n",
    "end = datetime(2023, 12, 30)\n",
    "\n",
    "# Get daily data.\n",
    "data = Daily('10381', start, end)\n",
    "data = data.fetch()\n",
    "\n",
    "# Drop unnecessary columns and rename.\n",
    "data = data.drop(columns=['tmin', 'tmax', 'wdir', 'wspd', 'pres', 'wpgt', 'tsun'])\n",
    "data = data.rename(columns={'time': 'date', 'tavg': 'temperature', 'prcp': 'precipitation', 'snow': 'snow(mm)'})\n",
    "\n",
    "# Export the frame to a csv file for later processing.\n",
    "data.to_csv('../data/weather.csv')"
   ]
  },
  {
   "cell_type": "code",
   "execution_count": null,
   "metadata": {},
   "outputs": [],
   "source": []
  }
 ],
 "metadata": {
  "kernelspec": {
   "display_name": "venv",
   "language": "python",
   "name": "python3"
  },
  "language_info": {
   "codemirror_mode": {
    "name": "ipython",
    "version": 3
   },
   "file_extension": ".py",
   "mimetype": "text/x-python",
   "name": "python",
   "nbconvert_exporter": "python",
   "pygments_lexer": "ipython3",
   "version": "3.9.10"
  }
 },
 "nbformat": 4,
 "nbformat_minor": 2
}
